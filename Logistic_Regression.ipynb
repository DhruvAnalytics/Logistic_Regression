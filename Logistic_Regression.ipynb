{
 "cells": [
  {
   "cell_type": "markdown",
   "metadata": {
    "id": "Ku61-17iyWUj"
   },
   "source": [
    "# Logistic Regression : Theorical Questions"
   ]
  },
  {
   "cell_type": "markdown",
   "metadata": {
    "id": "bJLFmgW6zG2c"
   },
   "source": [
    "1. What is Logistic Regression and how does it differ from Linear Regression?\n",
    "  - Logistic Regression is a type of model used when we want to predict categories - usually two categories like yes/no, spam/not spam or pass/fail. It tells us the probability that something belongs to a particular class.For example : \"Will a student pass or fail based on hours studied?\"\n",
    "  - The difference between Logistic Regression and Linear Regression :\n",
    "  1. Purpose :\n",
    "      - Linear Regression predicts a continuous value (e.g., price, height, score).\n",
    "      - Logistic Regression predicts a category/class (e.g., yes/no, 0/1, pass/fail).\n",
    "  2. Output :\n",
    "      - Linear Regression gives any real number as output.\n",
    "      - Logistic Regression gives a probability between 0 and 1.\n",
    "  3. Equation :\n",
    "      - Linear Regression uses a straight-line equation (y = mx + c).\n",
    "      - Logistic Regression uses a sigmoid function to map values between 0 and 1.\n",
    "  4. Use Case :\n",
    "      - Use Linear Regression when we want to know \"how much\".\n",
    "      - Use Logistic Regression when we want to know \"which class\".\n",
    "  5. Type of Problem :\n",
    "      - Linear = Regression problem.\n",
    "      - Logistic = Classification problem."
   ]
  },
  {
   "cell_type": "markdown",
   "metadata": {
    "id": "hgexCRw22aJN"
   },
   "source": [
    "2. What is the mathematical equation of Logistic Regression?\n",
    "  - The mathematical equation of Logistic Regression is :\n",
    "$$\n",
    "P(Y = 1 \\mid X) = \\frac{1}{1 + e^{-(\\beta_0 + \\beta_1 X_1 + \\beta_2 X_2 + \\dots + \\beta_n X_n)}}\n",
    "$$\n",
    "  - Where :\n",
    "      - $P(Y = 1 \\mid X)$ : This is the probability that the output is class 1 (like \"yes\" or \"pass\") given the input features $X$.\n",
    "      - $\\beta_0$ : The intercept (like the constant term in linear regression).\n",
    "      - $\\beta_1, \\beta_2, ..., \\beta_n$ : The coefficients for each input feature.\n",
    "      - $X_1, X_2, ..., X_n$ : The input variables (like age, salary, etc.).\n",
    "      - $e$ : Euler's number (≈ 2.718), used in exponential functions.\n",
    "      - The whole expression is passed through the sigmoid function to squeeze the result between 0 and 1.\n",
    "  - So, It's like a linear equation inside a sigmoid function, which turns any number into a probability."
   ]
  },
  {
   "cell_type": "markdown",
   "metadata": {
    "id": "VfamIKy64HAb"
   },
   "source": [
    "3. Why do we use the Sigmoid function in Logistic Regression?\n",
    "  - We use the sigmoid function in logistic regression because it helps us turn any number (positive or negative) into a value between 0 and 1, which we can interpret as a probability.\n",
    "  - Simple reasons :\n",
    "      - Prediction as probability: The sigmoid converts the raw output of the model into a probability, so we can say things like “there's a 70% chance this person will buy the product.”\n",
    "      - Decision-making: Once we get the probability, we can easily decide :\n",
    "          - If it's > 0.5, predict class 1 (yes).\n",
    "          - If it's ≤ 0.5, predict class 0 (no).\n",
    "      - Smooth curve: The sigmoid function gives a nice “S-shaped” curve that smoothly transitions between 0 and 1.\n",
    "  - Formula of sigmoid:\n",
    "$$\n",
    "\\sigma(z) = \\frac{1}{1 + e^{-z}}\n",
    "$$\n",
    "  - Where $z$ is the linear combination of input features.\n",
    "  - We use the sigmoid function because it turns model output into probabilities, which is exactly what logistic regression needs.\n"
   ]
  },
  {
   "cell_type": "markdown",
   "metadata": {
    "id": "m7x6R4hS6lRD"
   },
   "source": [
    "4. What is the cost function of Logistic Regression?\n",
    "  - In logistic regression, we use a special cost function called the Log Loss or Binary Cross-Entropy Loss.\n",
    "  -  Why not regular error : We can't use the usual mean squared error (like in linear regression) because logistic regression predicts probabilities and MSE doesn't work well for that. So we use a function that punishes wrong confident predictions more.\n",
    "  - Cost Function Formula :\n",
    "$$\n",
    "J(\\theta) = - \\frac{1}{m} \\sum_{i=1}^{m} \\left[ y^{(i)} \\log(\\hat{y}^{(i)}) + (1 - y^{(i)}) \\log(1 - \\hat{y}^{(i)}) \\right]\n",
    "$$\n",
    "  - Where :\n",
    "      - $m$ : Number of training examples\n",
    "      - $y^{(i)}$ : The actual label (0 or 1)\n",
    "      - $\\hat{y}^{(i)}$ : The predicted probability (from the sigmoid function)\n",
    "  - In simple words :\n",
    "      - If the actual value is 1 and the predicted probability is close to 1, the cost is low (good).\n",
    "      - If the actual value is 0 and the predicted probability is close to 0, the cost is low (good).\n",
    "      - But if the prediction is way off (e.g., predicting 0.9 when the true label is 0), the cost is very high.\n",
    "  - This encourages the model to be confident only when it's correct."
   ]
  },
  {
   "cell_type": "markdown",
   "metadata": {
    "id": "Dh7397eU8OMI"
   },
   "source": [
    "5. What is Regularization in Logistic Regression? Why is it needed?\n",
    "  - Regularization is a technique used to prevent overfitting in logistic regression (or any machine learning model).\n",
    "  - It adds a penalty term to the cost function that discourages the model from relying too much on any one feature or making the weights (coefficients) too large.\n",
    "  - Why it is needed :\n",
    "      - When our model is too complex, it may fit the training data too perfectly, including the noise. This is called overfitting.\n",
    "      - A model that overfits does well on training data but performs poorly on new/unseen data.\n",
    "      - Regularization helps keep the model simple and general, so it works well on both training and test data.\n",
    "  - Types of Regularization (used in Logistic Regression) : L1 Regularization (Lasso), L2 Regularization (Ridge) and Elastic net.\n",
    "  - So,\n",
    "      - Regularization = \"controls complexity\".\n",
    "      - Prevents the model from memorizing the training data.\n",
    "      - Helps in better generalization to new data.\n"
   ]
  },
  {
   "cell_type": "markdown",
   "metadata": {
    "id": "NT3GmFna9hYK"
   },
   "source": [
    "6. Explain the difference between Lasso, Ridge and Elastic Net regression.\n",
    "  - A simple and clear explanation of the difference between Lasso, Ridge and Elastic Net regression :\n",
    "  1. Ridge Regression (L2 Regularization) :    \n",
    "      - Adds the sum of squared coefficients to the loss function.\n",
    "      - Helps to shrink coefficients, but usually keeps all features.\n",
    "      - Good when all features are useful, but just need smaller weights.\n",
    "      - Penalty term :\n",
    "$$\n",
    "\\lambda \\sum_{j=1}^{n} \\theta_j^2\n",
    "$$\n",
    "      - Think of it as \"softly reducing\" big coefficients, not removing them.\n",
    "  2. Lasso Regression (L1 Regularization) :    \n",
    "      - Adds the sum of absolute values of the coefficients to the loss.\n",
    "      - Can shrink some coefficients to exactly zero -> feature selection!\n",
    "      - Useful when we believe only some features matter.\n",
    "      - Penalty term :\n",
    "$$\n",
    "\\lambda \\sum_{j=1}^{n} |\\theta_j|\n",
    "$$\n",
    "      - Think of it as \"cutting out\" unimportant features.\n",
    "  3. Elastic Net Regression :    \n",
    "      - A combination of both Ridge (L2) and Lasso (L1).\n",
    "      - Balances between shrinking coefficients and selecting important ones.\n",
    "      - Useful when we have many features and some are related or irrelevant.\n",
    "      - Penalty term :\n",
    "$$\n",
    "\\lambda_1 \\sum_{j=1}^{n} |\\theta_j| + \\lambda_2 \\sum_{j=1}^{n} \\theta_j^2\n",
    "$$\n",
    "      - Think of it as getting the best of both worlds.\n",
    "  - In short :\n",
    "      - Ridge : Keeps all features, shrinks large coefficients (no feature removal).\n",
    "      - Lasso : Removes unimportant features by setting their coefficients to zero.\n",
    "      - Elastic Net : Mix of both -> shrinks and selects features."
   ]
  },
  {
   "cell_type": "markdown",
   "metadata": {
    "id": "wOKYof09_ogz"
   },
   "source": [
    "7. When should we use Elastic Net instead of Lasso or Ridge?\n",
    "  - Use Elastic Net when :\n",
    "      - We have many features (especially more features than observations).\n",
    "      - Some features are highly correlated (e.g., two features giving similar info).\n",
    "      - We want both :\n",
    "          - Feature selection (like Lasso)\n",
    "          - Coefficient shrinking (like Ridge)\n",
    "  - Why not just Lasso or Ridge :    \n",
    "      - Lasso struggles when features are correlated - it may randomly keep one and drop the others.\n",
    "      - Ridge keeps all features, even if some are not helpful.\n",
    "      - Elastic Net handles correlation better and can drop useless features more reliably.\n",
    "  - In short, Use Elastic Net when :    \n",
    "      - Lasso is too aggressive (drops too many features),\n",
    "      - Ridge is too gentle (keeps everything),\n",
    "      - And our data has many correlated or irrelevant features.  "
   ]
  },
  {
   "cell_type": "markdown",
   "metadata": {
    "id": "dllMJShVA-q7"
   },
   "source": [
    "8. What is the impact of the regularization parameter (λ) in Logistic Regression?\n",
    "  - The regularization parameter λ (lambda) controls how much penalty is applied to the coefficients in logistic regression.\n",
    "  - Impact of λ :\n",
    "      - If λ is small (close to 0) :\n",
    "          - Very little penalty is added.\n",
    "          - The model focuses more on fitting the training data well.\n",
    "          - May lead to overfitting (too complex model).\n",
    "      - If λ is large :    \n",
    "          - A strong penalty is applied.\n",
    "          - The model tries to keep coefficients small.\n",
    "          - May lead to underfitting (too simple model that misses patterns).\n",
    "  - Think of it like a balance :\n",
    "      - Low λ -> model fits training data very closely, but may not generalize well.\n",
    "      - High λ -> model becomes simpler, may miss important details.\n",
    "  - The goal :\n",
    "      - Choose λ just right to get a balance between bias and variance - this is often done using cross-validation.\n",
    "  - So,\n",
    "      - λ = 0 : No regularization -> risk of overfitting.\n",
    "      - Small λ : Weak regularization -> more flexible model.\n",
    "      - Large λ : Strong regularization -> simpler model, risk of underfitting"
   ]
  },
  {
   "cell_type": "markdown",
   "metadata": {
    "id": "eN-EU3rNCohc"
   },
   "source": [
    "9. What are the key assumptions of Logistic Regression?\n",
    "  - Key Assumptions of Logistic Regression :\n",
    "  1. Binary or categorical outcome (Target must be binary (or extended for multiclass)) :\n",
    "      - The target variable should be binary (0 or 1) or sometimes multiclass (using extensions like softmax).\n",
    "  2. Linearity of log odds ( Log-odds should relate linearly to features) :\n",
    "      - Logistic regression assumes that the log-odds of the outcome is linearly related to the input features (not the outcome itself, but the log of the probability ratio).\n",
    "  3. No or little multicollinearity (Features should not be strongly correlated) :\n",
    "      - Input features should not be highly correlated with each other. If they are, the model can get confused.\n",
    "  4. Independent observations (Observations must be independent) :\n",
    "      - The data points (rows) should be independent of each other - one shouldn't influence another.\n",
    "  5. Large sample size (A decent amount of data is needed) :\n",
    "      - Logistic regression performs better with enough data, especially when dealing with rare outcomes.\n",
    "  6. Meaningful features :\n",
    "      - All the input features should be relevant and ideally on similar scales (scaling helps with regularization too)."
   ]
  },
  {
   "cell_type": "markdown",
   "metadata": {
    "id": "orHQ199REr9V"
   },
   "source": [
    "10. What are some alternatives to Logistic Regression for classification tasks?\n",
    "  - Some alternatives to Logistic Regression for classification tasks :\n",
    "  1. Decision Trees :\n",
    "  - Splits data into rules based on features.\n",
    "  - Easy to understand and visualize.\n",
    "  - Can handle both linear and non-linear patterns.\n",
    "  2. Random Forest :\n",
    "  - A collection of many decision trees (an ensemble).\n",
    "  - More accurate and stable than a single tree.\n",
    "  - Handles overfitting better than plain trees.\n",
    "  3. Support Vector Machine (SVM) :\n",
    "  - Finds the best boundary (hyperplane) between classes.\n",
    "  - Works well with high-dimensional data.\n",
    "  - Can use kernels to handle non-linear data.\n",
    "  4. K-Nearest Neighbors (KNN) :\n",
    "  - Classifies based on the closest training examples.\n",
    "  - Very simple and intuitive.\n",
    "  - Can be slow with large datasets.\n",
    "  5. Naive Bayes :\n",
    "  - Based on Bayes' Theorem.\n",
    "  - Assumes features are independent.\n",
    "  - Fast and works well with text (like spam detection).\n",
    "  6. Neural Networks :\n",
    "  - Powerful models that can learn complex patterns.\n",
    "  - Good for large datasets and non-linear problems.\n",
    "  - Require more data and training time.\n",
    "  - In simple words :\n",
    "      - Decision Tree -> simple, interpretable\n",
    "      - Random Forest -> powerful, less overfitting\n",
    "      - SVM -> great for high-dimensional data\n",
    "      - KNN -> easy to implement, lazy learner\n",
    "      - Naive Bayes -> fast, works well with text\n",
    "      - Neural Networks -> handles complex patterns, needs more data"
   ]
  },
  {
   "cell_type": "markdown",
   "metadata": {
    "id": "AD3AyFOFHqcs"
   },
   "source": [
    "11. What are Classification Evaluation Metrics?\n",
    "  - Classification Evaluation Metrics are tools we use to measure how well a classification model (like logistic regression) is performing.\n",
    "  - Here are the most important ones :\n",
    "  1. Accuracy :\n",
    "  - What it tells : How many predictions were correct out of all predictions.\n",
    "  - Formula :\n",
    "  $$\n",
    "  \\text{Accuracy} = \\frac{TP + TN}{TP + TN + FP + FN}\n",
    "  $$\n",
    "  - Good when classes are balanced, but misleading when they're not.\n",
    "  2. Precision :\n",
    "  - What it tells : Of all the predicted \"positives\", how many were actually positive.\n",
    "  - Formula :\n",
    "  $$\n",
    "  \\text{Precision} = \\frac{TP}{TP + FP}\n",
    "  $$\n",
    "  - High precision means fewer false positives.\n",
    "  3. Recall (Sensitivity or True Positive Rate) :\n",
    "  - What it tells : Of all the actual positives, how many did we correctly predict?\n",
    "  - Formula :\n",
    "  $$\n",
    "  \\text{Recall} = \\frac{TP}{TP + FN}\n",
    "  $$\n",
    "  - High recall means fewer false negatives.\n",
    "  4. F1 Score :    \n",
    "  - What it tells : A balance between precision and recall (their harmonic mean).\n",
    "  - Formula :\n",
    "  $$\n",
    "  \\text{F1} = 2 \\times \\frac{\\text{Precision} \\times \\text{Recall}}{\\text{Precision + Recall}}\n",
    "  $$\n",
    "  - Useful when we want a balance and classes are imbalanced.\n",
    "  5. Confusion Matrix :\n",
    "  - A table showing TP, FP, TN, FN (True/False Positives/Negatives).\n",
    "  - Helps understand where the model is going wrong.\n",
    "  6. ROC-AUC Score (Receiver Operating Characteristic - Area Under Curve) :\n",
    "  - Tells how well the model separates the classes across thresholds.\n",
    "  - AUC = 1 -> perfect model, AUC = 0.5 -> random guessing.\n",
    "  - In short :\n",
    "      - Accuracy : Overall correctness\n",
    "      - Precision : Correctness among predicted positives\n",
    "      - Recall : Coverage of actual positives\n",
    "      - F1 Score : Balance of precision & recall\n",
    "      - Confusion Matrix : Detailed error breakdown\n",
    "      - ROC-AUC : Measures class separation ability."
   ]
  },
  {
   "cell_type": "markdown",
   "metadata": {
    "id": "38N5lEf8KVNx"
   },
   "source": [
    "12. How does class imbalance affect Logistic Regression?\n",
    "  - Class imbalance can significantly affect logistic regression and other classification models.\n",
    "  - Class imbalance : Class imbalance happens when one class (e.g., “No”) appears much more often than the other (e.g., “Yes”). Example : 95% “No”, 5% “Yes”.\n",
    "  - How it affects Logistic Regression :\n",
    "      - Model may become biased toward the majority class.\n",
    "          - It might just predict “No” all the time and still get high accuracy (e.g., 95%), but that's misleading.\n",
    "      - Poor recall/precision for minority class :\n",
    "          - The model might completely miss the rare events, like fraud cases or diseases.\n",
    "      - Misleading accuracy :\n",
    "          - High accuracy doesn't mean the model is good - especially if it's not catching the minority class.\n"
   ]
  },
  {
   "cell_type": "markdown",
   "metadata": {
    "id": "r4cxgpGZLwq3"
   },
   "source": [
    "13. What is Hyperparameter Tuning in Logistic Regression?\n",
    "  - Hyperparameter tuning in logistic regression means finding the best values for settings (called hyperparameters) that control how the model learns - but are not learned directly from the data.\n",
    "  - Hyperparameters in Logistic Regression :\n",
    "      - Some common hyperparameters include :\n",
    "      - C (inverse of regularization strength) :    \n",
    "          - Smaller C = stronger regularization (simpler model)\n",
    "          - Larger C = weaker regularization (model fits more closely)\n",
    "      - Penalty type :\n",
    "          - 'l1' for Lasso (feature selection)\n",
    "          - 'l2' for Ridge (shrinks coefficients)\n",
    "          - 'elasticnet' for combination of both\n",
    "      - Solver :\n",
    "          - The algorithm used to fit the model (e.g., 'liblinear', 'saga', 'newton-cg')\n",
    "  - Why tune them :\n",
    "      - To improve model performance on unseen data.\n",
    "      - To avoid overfitting or underfitting.\n",
    "  - How we tune them :    \n",
    "      - Grid Search : Try out many combinations manually.\n",
    "      - Random Search : Try random combinations.\n",
    "      - Cross-Validation : Test model performance on different data splits while tuning.\n",
    "  - So, Hyperparameter tuning = adjusting model settings to get best results and Key hyperparameter : C (controls regularization). And use tools like Grid Search + Cross-Validation to find the best values."
   ]
  },
  {
   "cell_type": "markdown",
   "metadata": {
    "id": "rI6nSjmSN4up"
   },
   "source": [
    "14. What are different solvers in Logistic Regression? Which one should be used?\n",
    "  - The solver in logistic regression refers to the algorithm used to find the best model coefficients during training.\n",
    "  - Different solvers have different strengths depending on our data size, penalty type and whether we are using regularization.\n",
    "  - Common Solvers in Logistic Regression :    \n",
    "  1. liblinear :\n",
    "  - Good for small datasets.\n",
    "  - Supports L1 and L2 penalties.\n",
    "  - Works well for binary classification.\n",
    "  2. saga :\n",
    "  - Supports L1, L2 and elasticnet penalties.\n",
    "  - Works for large datasets and sparse data.\n",
    "  - Supports both binary and multiclass problems.\n",
    "  3. lbfgs (Limited-memory BFGS) :\n",
    "  - Default in many libraries (e.g., sklearn).\n",
    "  - Fast and efficient for L2 penalty.\n",
    "  - Works well for multiclass problems.\n",
    "  - Doesn't support L1 or elasticnet.\n",
    "  4. newton-cg :    \n",
    "  - Similar to lbfgs, but uses Newton's method.\n",
    "  - Supports L2 penalty, multiclass and larger datasets.\n",
    "  5. newton-cholesky (new in some versions) :    \n",
    "  - Fast for dense datasets.\n",
    "  - Good for L2 regularization.\n",
    "  - Which Solver We Should Use :    \n",
    "      - iblinear -> small data + binary, supports L1/L2.\n",
    "      - saga -> large data or sparse data, supports all penalties.\n",
    "      - lbfgs / newton-cg -> fast for L2, good for multiclass.\n",
    "      - Choose based on dataset size, penalty type and problem type."
   ]
  },
  {
   "cell_type": "markdown",
   "metadata": {
    "id": "MX_6b9JMQPCp"
   },
   "source": [
    "15. How is Logistic Regression extended for multiclass classification?\n",
    "  - Logistic Regression is originally designed for binary classification, but it can be extended to handle multiclass classification using two main strategies :\n",
    "  1. One-vs-Rest (OvR) (also called One-vs-All) :\n",
    "      - The model trains one binary classifier for each class.\n",
    "      - Each classifier tries to predict : “Is this class or not?”\n",
    "      - For example, with 3 classes (A, B, C), it builds :\n",
    "          - A vs not A\n",
    "          - B vs not B\n",
    "          - C vs not C\n",
    "      - When predicting, the model picks the class with the highest probability.\n",
    "      - Simple and commonly used (default in scikit-learn).\n",
    "  2. Multinomial (Softmax Regression) :\n",
    "      - Instead of multiple binary classifiers, this uses a single model.\n",
    "      - It directly estimates the probabilities for all classes at once.\n",
    "      - Uses the softmax function (instead of sigmoid) to give probabilities that sum to 1.\n",
    "      - Works better when classes are mutually exclusive and well-separated.\n",
    "  - In scikit-learn (Python) we can specify this using the multi_class parameter in LogisticRegression :\n",
    "      - multi_class='ovr' -> One-vs-Rest (default for binary)\n",
    "      - multi_class='multinomial' -> Multiclass Softmax (requires solver like 'lbfgs' or 'saga').\n",
    "  - So,\n",
    "      - OvR -> Builds one classifier per class (binary style)\n",
    "      - Multinomial -> One model predicts all classes together using softmax\n",
    "      - Use multi_class='multinomial' for better multiclass performance.\n",
    "\n"
   ]
  },
  {
   "cell_type": "markdown",
   "metadata": {
    "id": "qzubChUQS9ha"
   },
   "source": [
    "16. What are the advantages and disadvantages of Logistic Regression?\n",
    "  - Advantages :\n",
    "  1. Easy to understand and implement :\n",
    "      - Based on simple math - great for beginners.\n",
    "  2. Works well for binary classification :\n",
    "      - Ideal for yes/no problems like spam detection, churn prediction, etc.\n",
    "  3. Outputs probabilities :\n",
    "      - Gives a confidence score (like 80% chance of success), not just a hard yes/no.\n",
    "  4. Fast and efficient :\n",
    "      - Trains quickly even on large datasets.\n",
    "  5. Regularization is built-in :\n",
    "      - Can prevent overfitting using L1/L2 penalties.\n",
    "  6. Interpretable coefficients :\n",
    "      - We can see which features influence the outcome and how much.\n",
    "  - Disadvantages :\n",
    "  1. Assumes linear relationship (in log-odds) :\n",
    "      - It may not perform well when data is highly non-linear unless transformed.\n",
    "  2. Not great with complex patterns :\n",
    "      - More advanced models like random forest or neural networks may outperform it.\n",
    "  3. Sensitive to outliers :\n",
    "      - Outliers can distort the model unless handled carefully.\n",
    "  4. Needs clean, well-prepared data :\n",
    "      - Logistic regression can struggle with irrelevant or correlated features.\n",
    "  5. Limited to binary or multinomial classification :\n",
    "      - Not suited for regression tasks or ranking problems.\n",
    "\n",
    "\n",
    "\n"
   ]
  },
  {
   "cell_type": "markdown",
   "metadata": {
    "id": "AI7EaZdtVLSq"
   },
   "source": [
    "17. What are some use cases of Logistic Regression?\n",
    "  - Here are some common and practical use cases of Logistic Regression - all focused on predicting categories :    \n",
    "  1. Email Spam Detection :\n",
    "      - Classify emails as Spam (1) or Not Spam (0).\n",
    "  2. Customer Churn Prediction :\n",
    "      - Predict if a customer will leave (1) or stay (0) with a company.\n",
    "  3. Disease Diagnosis :\n",
    "      - Example : Predict whether a patient has diabetes (1) or not (0) based on medical test results.\n",
    "  4. Loan Default Prediction :\n",
    "      - Determine if a loan applicant is likely to default (1) or repay (0).\n",
    "  5. Credit Card Fraud Detection :\n",
    "      - Classify transactions as fraudulent (1) or legitimate (0).\n",
    "  6. Marketing Campaign Response :\n",
    "      - Will a customer respond (1) to a campaign or ignore (0) it?\n",
    "  7. Employee Attrition Prediction :\n",
    "      - Predict if an employee is likely to quit (1) or stay (0).\n",
    "  8. Voting Behavior :\n",
    "      - Will a person vote (1) or not vote (0) in an election?"
   ]
  },
  {
   "cell_type": "markdown",
   "metadata": {
    "id": "IYrurJoDWZBa"
   },
   "source": [
    "18. What is the difference between Softmax Regression and Logistic Regression?\n",
    "  - Here's a clear and simple comparison between Softmax Regression and Logistic Regression :\n",
    "      - Logistic Regression :\n",
    "          - Used for binary classification : Predicts between two classes (e.g., 0 or 1, Yes or No)\n",
    "          - Uses the sigmoid function to output a probability between 0 and 1.\n",
    "          - Formula :    \n",
    "$$\n",
    "  P(Y=1) = \\frac{1}{1 + e^{-z}}\n",
    "$$\n",
    "          - Example : Will the customer buy the product or not?\n",
    "      - Softmax Regression (Multinomial Logistic Regression) :\n",
    "          - Used for multiclass classification : Predicts between three or more classes\n",
    "          - Uses the softmax function, which outputs a probability distribution across all classes (all probabilities add up to 1).\n",
    "          - Formula (for class k out of K classes) :\n",
    "$$\n",
    "  P(Y = k) = \\frac{e^{z_k}}{\\sum_{j=1}^{K} e^{z_j}}\n",
    "$$\n",
    "          - Example : Predict which type of fruit it is — apple, banana or orange."
   ]
  },
  {
   "cell_type": "markdown",
   "metadata": {
    "id": "3cy1hzs9YVT4"
   },
   "source": [
    "19. How do we choose between One-vs-Rest (OvR) and Softmax for multiclass classification?\n",
    "  - Choosing between One-vs-Rest (OvR) and Softmax (Multinomial Logistic Regression) depends on our data, goals and model needs.\n",
    "  - One-vs-Rest (OvR) :\n",
    "      - Trains one binary classifier per class.\n",
    "      - Each classifier predicts : \"Is this class or not?\"\n",
    "      - Use OvR when :\n",
    "          - We want a simple, interpretable model.\n",
    "          - Our classes are not strongly related or overlapping.\n",
    "          - We are working with binary-friendly solvers (like liblinear in scikit-learn).\n",
    "  - Softmax (Multinomial Logistic Regression) :\n",
    "      - Trains one model to directly predict all classes at once.\n",
    "      - Uses the softmax function to output class probabilities.\n",
    "      - Use Softmax when :\n",
    "          - We want probabilities for all classes at once.\n",
    "          - Classes are mutually exclusive (e.g., cat, dog, rabbit).\n",
    "          - We are using solvers like 'lbfgs' or 'saga'.\n",
    "  - So, choose OvR for simplicity or when using solvers like liblinear and choose Softmax when we want better overall performance, especially with mutually exclusive classes."
   ]
  },
  {
   "cell_type": "markdown",
   "metadata": {
    "id": "WKgABBijaaGZ"
   },
   "source": [
    "20. How do we interpret coefficients in Logistic Regression?\n",
    "  - Interpreting coefficients in Logistic Regression is different from linear regression - because the output is a probability, not a raw number.\n",
    "  - Logistic Regression Equation :\n",
    "$$\n",
    "\\text{log}\\left(\\frac{p}{1 - p}\\right) = \\beta_0 + \\beta_1 X_1 + \\beta_2 X_2 + \\dots + \\beta_n X_n\n",
    "$$\n",
    "  - Here, $\\frac{p}{1-p}$ is called the odds and the left side is the log-odds.\n",
    "  - How to interpret a coefficient (β) :\n",
    "      - β 0 -> As the feature increases, the odds of the outcome increase.\n",
    "      - β < 0 -> As the feature increases, the odds of the outcome decrease.\n",
    "      - β = 0 -> The feature has no effect on the outcome.\n",
    "  - To make it easier to understand :\n",
    "      - We can convert the coefficient to an odds ratio by using :\n",
    "$$\n",
    "\\text{Odds Ratio} = e^{\\beta}\n",
    "$$\n",
    "      - If $e^\\beta = 2$, it means :\n",
    "          - A 1-unit increase in the feature doubles the odds of the outcome.\n",
    "      - If $e^\\beta = 0.5$, it means :\n",
    "          - A 1-unit increase halves the odds of the outcome.\n",
    "  - So,\n",
    "      - Coefficients affect the log-odds of the outcome.\n",
    "      - Use $e^{\\beta}$ to interpret the change in odds.\n",
    "      - Positive β -> increases odds, Negative β -> decreases odds.\n",
    "      - Easy to explain as \"how much a feature pushes the outcome up or down\"."
   ]
  },
  {
   "cell_type": "markdown",
   "metadata": {
    "id": "AP89CJSyi6Lp"
   },
   "source": [
    "# Logistic Regression : Practical Questions"
   ]
  },
  {
   "cell_type": "code",
   "execution_count": null,
   "metadata": {
    "colab": {
     "base_uri": "https://localhost:8080/"
    },
    "id": "XS6AoGDUyGO7",
    "outputId": "e2c83324-b2d7-44c3-bc47-a46b905328fd"
   },
   "outputs": [
    {
     "name": "stdout",
     "output_type": "stream",
     "text": [
      "Model Accuracy: 0.96\n"
     ]
    }
   ],
   "source": [
    "#1. Write a Python program that loads a dataset, splits it into training and testing sets, applies Logistic Regression and prints the model accuracy.\n",
    "\n",
    "# Import necessary libraries\n",
    "from sklearn.datasets import load_breast_cancer\n",
    "from sklearn.model_selection import train_test_split\n",
    "from sklearn.linear_model import LogisticRegression\n",
    "from sklearn.metrics import accuracy_score\n",
    "\n",
    "# Load the dataset\n",
    "data = load_breast_cancer()\n",
    "X = data.data\n",
    "y = data.target\n",
    "\n",
    "# Split into training and testing sets (80% train, 20% test)\n",
    "X_train, X_test, y_train, y_test = train_test_split(X, y, test_size=0.2, random_state=42)\n",
    "\n",
    "# Create and train the Logistic Regression model\n",
    "model = LogisticRegression(max_iter=1000)\n",
    "model.fit(X_train, y_train)\n",
    "\n",
    "# Predictions and evaluate accuracy\n",
    "y_pred = model.predict(X_test)\n",
    "accuracy = accuracy_score(y_test, y_pred)\n",
    "print(f\"Model Accuracy: {accuracy:.2f}\")"
   ]
  },
  {
   "cell_type": "code",
   "execution_count": null,
   "metadata": {
    "colab": {
     "base_uri": "https://localhost:8080/"
    },
    "id": "TN5HnDmTkOaA",
    "outputId": "4752f850-66ff-4dbc-d553-ed056cf1d503"
   },
   "outputs": [
    {
     "name": "stdout",
     "output_type": "stream",
     "text": [
      "L1-Regularized Logistic Regression Accuracy: 0.96\n"
     ]
    }
   ],
   "source": [
    "#2. Write a Python program to apply L1 regularization (Lasso) on a dataset using LogisticRegression(penalty='l1') and print the model accuracy.\n",
    "\n",
    "# Import necessary libraries\n",
    "from sklearn.datasets import load_breast_cancer\n",
    "from sklearn.model_selection import train_test_split\n",
    "from sklearn.linear_model import LogisticRegression\n",
    "from sklearn.preprocessing import StandardScaler\n",
    "from sklearn.metrics import accuracy_score\n",
    "\n",
    "# Load the dataset\n",
    "data = load_breast_cancer()\n",
    "X = data.data\n",
    "y = data.target\n",
    "\n",
    "# Split into train and test sets\n",
    "X_train, X_test, y_train, y_test = train_test_split(X, y, test_size=0.2, random_state=42)\n",
    "\n",
    "# Apply Logistic Regression with L1 regularization\n",
    "model = LogisticRegression(penalty='l1', solver='liblinear')  # liblinear supports L1\n",
    "model.fit(X_train, y_train)\n",
    "\n",
    "# Predict and evaluate\n",
    "y_pred = model.predict(X_test)\n",
    "accuracy = accuracy_score(y_test, y_pred)\n",
    "print(f\"L1-Regularized Logistic Regression Accuracy: {accuracy:.2f}\")"
   ]
  },
  {
   "cell_type": "code",
   "execution_count": null,
   "metadata": {
    "colab": {
     "base_uri": "https://localhost:8080/"
    },
    "id": "iB-O2jnQlg0H",
    "outputId": "a1011c8b-06da-4a34-f9a6-3bbf911f50ee"
   },
   "outputs": [
    {
     "name": "stdout",
     "output_type": "stream",
     "text": [
      "L2-Regularized Logistic Regression Accuracy: 0.96\n",
      "\n",
      "Model Coefficients:\n",
      "[[ 2.09981182  0.13248576 -0.10346836 -0.00255646 -0.17024348 -0.37984365\n",
      "  -0.69120719 -0.4081069  -0.23506963 -0.02356426 -0.0854046   1.12246945\n",
      "  -0.32575716 -0.06519356 -0.02371113  0.05960156  0.00452206 -0.04277587\n",
      "  -0.04148042  0.01425051  0.96630267 -0.37712622 -0.05858253 -0.02395975\n",
      "  -0.31765956 -1.00443507 -1.57134711 -0.69351401 -0.84095566 -0.09308282]]\n"
     ]
    }
   ],
   "source": [
    "#3. Write a Python program to train Logistic Regression with L2 regularization (Ridge) using LogisticRegression(penalty='l2'). Print model accuracy and coefficients.\n",
    "\n",
    "# Import libraries\n",
    "from sklearn.datasets import load_breast_cancer\n",
    "from sklearn.model_selection import train_test_split\n",
    "from sklearn.linear_model import LogisticRegression\n",
    "from sklearn.preprocessing import StandardScaler\n",
    "from sklearn.metrics import accuracy_score\n",
    "\n",
    "# Load dataset\n",
    "data = load_breast_cancer()\n",
    "X = data.data\n",
    "y = data.target\n",
    "\n",
    "# Train-test split\n",
    "X_train, X_test, y_train, y_test = train_test_split(X, y, test_size=0.2, random_state=42)\n",
    "\n",
    "# Train Logistic Regression with L2 regularization\n",
    "model = LogisticRegression(penalty='l2', solver='lbfgs', max_iter=1000)\n",
    "model.fit(X_train, y_train)\n",
    "\n",
    "# Predict and evaluate\n",
    "y_pred = model.predict(X_test)\n",
    "accuracy = accuracy_score(y_test, y_pred)\n",
    "print(f\"L2-Regularized Logistic Regression Accuracy: {accuracy:.2f}\")\n",
    "print(\"\\nModel Coefficients:\")\n",
    "print(model.coef_)"
   ]
  },
  {
   "cell_type": "code",
   "execution_count": null,
   "metadata": {
    "colab": {
     "base_uri": "https://localhost:8080/"
    },
    "id": "NbY4MvWpnIs_",
    "outputId": "ad406dfc-c780-49c6-bb1f-0013e19aa157"
   },
   "outputs": [
    {
     "name": "stdout",
     "output_type": "stream",
     "text": [
      "Elastic Net Logistic Regression Accuracy: 0.97\n"
     ]
    }
   ],
   "source": [
    "#4. Write a Python program to train Logistic Regression with Elastic Net Regularization (penalty='elasticnet').\n",
    "\n",
    "# Import libraries\n",
    "from sklearn.datasets import load_breast_cancer\n",
    "from sklearn.model_selection import train_test_split\n",
    "from sklearn.linear_model import LogisticRegression\n",
    "from sklearn.preprocessing import StandardScaler\n",
    "from sklearn.metrics import accuracy_score\n",
    "\n",
    "# Load dataset\n",
    "data = load_breast_cancer()\n",
    "X = data.data\n",
    "y = data.target\n",
    "\n",
    "# Train-test split\n",
    "X_train, X_test, y_train, y_test = train_test_split(X, y, test_size=0.2, random_state=42)\n",
    "\n",
    "# Scale features (important for regularization)\n",
    "scaler = StandardScaler()\n",
    "X_train_scaled = scaler.fit_transform(X_train)\n",
    "X_test_scaled = scaler.transform(X_test)\n",
    "\n",
    "# Train Logistic Regression with Elastic Net Regularization\n",
    "model = LogisticRegression(penalty='elasticnet',solver='saga', l1_ratio=0.5, max_iter=1000)\n",
    "# saga supports elasticnet,\n",
    "# 0.5 = equal mix of L1 and L2\n",
    "model.fit(X_train_scaled, y_train)\n",
    "\n",
    "# Predict and evaluate\n",
    "y_pred = model.predict(X_test_scaled)\n",
    "accuracy = accuracy_score(y_test, y_pred)\n",
    "print(f\"Elastic Net Logistic Regression Accuracy: {accuracy:.2f}\")"
   ]
  },
  {
   "cell_type": "code",
   "execution_count": null,
   "metadata": {
    "colab": {
     "base_uri": "https://localhost:8080/"
    },
    "id": "hLGkWzK4pGNU",
    "outputId": "a8a1d757-924f-48cf-a808-e782aa747f4e"
   },
   "outputs": [
    {
     "name": "stdout",
     "output_type": "stream",
     "text": [
      "Multiclass Logistic Regression (OvR) Accuracy: 0.97\n"
     ]
    }
   ],
   "source": [
    "#5. Write a Python program to train a Logistic Regression model for multiclass classification using multi_class='ovr'.\n",
    "\n",
    "# Import libraries\n",
    "from sklearn.datasets import load_iris\n",
    "from sklearn.model_selection import train_test_split\n",
    "from sklearn.linear_model import LogisticRegression\n",
    "from sklearn.preprocessing import StandardScaler\n",
    "from sklearn.metrics import accuracy_score\n",
    "\n",
    "# Load the multiclass dataset\n",
    "data = load_iris()\n",
    "X = data.data\n",
    "y = data.target  # 3 classes: 0, 1, 2\n",
    "\n",
    "# Train-test split\n",
    "X_train, X_test, y_train, y_test = train_test_split(X, y, test_size=0.2, random_state=42)\n",
    "\n",
    "# Scale features\n",
    "scaler = StandardScaler()\n",
    "X_train_scaled = scaler.fit_transform(X_train)\n",
    "X_test_scaled = scaler.transform(X_test)\n",
    "\n",
    "# Train Logistic Regression with One-vs-Rest strategy\n",
    "model = LogisticRegression(multi_class='ovr', solver='liblinear')  # liblinear supports ovr\n",
    "model.fit(X_train_scaled, y_train)\n",
    "\n",
    "# Predict and evaluate\n",
    "y_pred = model.predict(X_test_scaled)\n",
    "accuracy = accuracy_score(y_test, y_pred)\n",
    "print(f\"Multiclass Logistic Regression (OvR) Accuracy: {accuracy:.2f}\")"
   ]
  },
  {
   "cell_type": "code",
   "execution_count": null,
   "metadata": {
    "colab": {
     "base_uri": "https://localhost:8080/"
    },
    "id": "P6iKtZjYpoxT",
    "outputId": "365eba2d-2833-4d26-9e22-674bd6f39fa8"
   },
   "outputs": [
    {
     "name": "stdout",
     "output_type": "stream",
     "text": [
      "Best Parameters: {'C': 0.1, 'penalty': 'l2'}\n",
      "Accuracy with Best Parameters: 0.99\n"
     ]
    }
   ],
   "source": [
    "#6. Write a Python program to apply GridSearchCV to tune the hyperparameters (C and penalty) of Logistic Regression. Print the best parameters and accuracy.\n",
    "\n",
    "# Import libraries\n",
    "from sklearn.datasets import load_breast_cancer\n",
    "from sklearn.model_selection import train_test_split, GridSearchCV\n",
    "from sklearn.linear_model import LogisticRegression\n",
    "from sklearn.preprocessing import StandardScaler\n",
    "from sklearn.metrics import accuracy_score\n",
    "\n",
    "# Load dataset\n",
    "data = load_breast_cancer()\n",
    "X = data.data\n",
    "y = data.target\n",
    "\n",
    "# Train-test split\n",
    "X_train, X_test, y_train, y_test = train_test_split(X, y, test_size=0.2, random_state=42)\n",
    "\n",
    "# Scale features\n",
    "scaler = StandardScaler()\n",
    "X_train_scaled = scaler.fit_transform(X_train)\n",
    "X_test_scaled = scaler.transform(X_test)\n",
    "\n",
    "# Define model and hyperparameter grid\n",
    "model = LogisticRegression(solver='liblinear', max_iter=1000)\n",
    "param_grid = {\n",
    "    'C': [0.01, 0.1, 1, 10],\n",
    "    'penalty': ['l1', 'l2']\n",
    "}\n",
    "\n",
    "# Apply GridSearchCV\n",
    "grid_search = GridSearchCV(model, param_grid, cv=5)\n",
    "grid_search.fit(X_train_scaled, y_train)\n",
    "\n",
    "# Predict and evaluate\n",
    "best_model = grid_search.best_estimator_\n",
    "y_pred = best_model.predict(X_test_scaled)\n",
    "accuracy = accuracy_score(y_test, y_pred)\n",
    "\n",
    "# Best parameters and accuracy\n",
    "print(\"Best Parameters:\", grid_search.best_params_)\n",
    "print(f\"Accuracy with Best Parameters: {accuracy:.2f}\")"
   ]
  },
  {
   "cell_type": "code",
   "execution_count": null,
   "metadata": {
    "colab": {
     "base_uri": "https://localhost:8080/"
    },
    "id": "Eah7xaxGq0QM",
    "outputId": "15293637-43bd-4cef-8584-7a7a0eb9e7eb"
   },
   "outputs": [
    {
     "name": "stdout",
     "output_type": "stream",
     "text": [
      "Fold Accuracies: [0.97368421 0.94736842 0.96491228 0.99122807 0.99115044]\n",
      "Average Accuracy: 0.97\n"
     ]
    }
   ],
   "source": [
    "#7. Write a Python program to evaluate Logistic Regression using Stratified K-Fold Cross-Validation. Print the average accuracy.\n",
    "\n",
    "# Import libraries\n",
    "from sklearn.datasets import load_breast_cancer\n",
    "from sklearn.linear_model import LogisticRegression\n",
    "from sklearn.model_selection import StratifiedKFold, cross_val_score\n",
    "from sklearn.preprocessing import StandardScaler\n",
    "import numpy as np\n",
    "\n",
    "# Load dataset\n",
    "data = load_breast_cancer()\n",
    "X = data.data\n",
    "y = data.target\n",
    "\n",
    "# Scale features\n",
    "scaler = StandardScaler()\n",
    "X_scaled = scaler.fit_transform(X)\n",
    "\n",
    "# Define model\n",
    "model = LogisticRegression(max_iter=1000)\n",
    "\n",
    "# Define Stratified K-Fold Cross-Validation\n",
    "skf = StratifiedKFold(n_splits=5, shuffle=True, random_state=42)\n",
    "\n",
    "# Evaluate model using cross-validation\n",
    "scores = cross_val_score(model, X_scaled, y, cv=skf, scoring='accuracy')\n",
    "\n",
    "# individual and average accuracies\n",
    "print(\"Fold Accuracies:\", scores)\n",
    "print(f\"Average Accuracy: {np.mean(scores):.2f}\")"
   ]
  },
  {
   "cell_type": "code",
   "execution_count": null,
   "metadata": {
    "colab": {
     "base_uri": "https://localhost:8080/"
    },
    "id": "-8qb3x-Hr42s",
    "outputId": "01d60311-0fb4-4fd0-88da-b84e9a3681d3"
   },
   "outputs": [
    {
     "name": "stdout",
     "output_type": "stream",
     "text": [
      "Accuracy: 0.89\n"
     ]
    }
   ],
   "source": [
    "#8. Write a Python program to load a dataset from a CSV file, apply Logistic Regression and evaluate its accuracy.\n",
    "\n",
    "# Import libraries\n",
    "import pandas as pd\n",
    "from sklearn.model_selection import train_test_split\n",
    "from sklearn.linear_model import LogisticRegression\n",
    "from sklearn.preprocessing import StandardScaler\n",
    "from sklearn.metrics import accuracy_score\n",
    "\n",
    "# Load the dataset\n",
    "url = 'https://gist.githubusercontent.com/davewadestein/5339c464e95f54f724f6f5381f0d95e1/raw/Social_Network_ads.csv'\n",
    "df = pd.read_csv(url)\n",
    "\n",
    "# Drop User ID (not useful) and encode Gender\n",
    "df = df.drop('User ID', axis=1)\n",
    "df = pd.get_dummies(df, drop_first=True)  # 'Male' becomes 1 if male, 0 if female\n",
    "\n",
    "# Split features and target\n",
    "X = df.drop('Purchased', axis=1)\n",
    "y = df['Purchased']\n",
    "\n",
    "# Train-test split\n",
    "X_train, X_test, y_train, y_test = train_test_split(X, y, test_size=0.2, random_state=42)\n",
    "\n",
    "# Scale features\n",
    "scaler = StandardScaler()\n",
    "X_train_scaled = scaler.fit_transform(X_train)\n",
    "X_test_scaled = scaler.transform(X_test)\n",
    "\n",
    "# Train logistic regression\n",
    "model = LogisticRegression(max_iter=1000)\n",
    "model.fit(X_train_scaled, y_train)\n",
    "\n",
    "# Evaluate\n",
    "y_pred = model.predict(X_test_scaled)\n",
    "accuracy = accuracy_score(y_test, y_pred)\n",
    "print(f\"Accuracy: {accuracy:.2f}\")"
   ]
  },
  {
   "cell_type": "code",
   "execution_count": null,
   "metadata": {
    "colab": {
     "base_uri": "https://localhost:8080/"
    },
    "id": "0kiGpr-FtkkI",
    "outputId": "81bf9978-3c2e-4ed7-c971-51441d8c9843"
   },
   "outputs": [
    {
     "name": "stdout",
     "output_type": "stream",
     "text": [
      "Best Parameters: {'solver': 'saga', 'penalty': 'l2', 'C': np.float64(0.46415888336127775)}\n",
      "Accuracy with Best Parameters: 0.98\n"
     ]
    }
   ],
   "source": [
    "#9. Write a Python program to apply RandomizedSearchCV for tuning hyperparameters (C, penalty, solver) in Logistic Regression. Print the best parameters and accuracy.\n",
    "\n",
    "# Import libraries\n",
    "import numpy as np\n",
    "from sklearn.datasets import load_breast_cancer\n",
    "from sklearn.linear_model import LogisticRegression\n",
    "from sklearn.model_selection import train_test_split, RandomizedSearchCV\n",
    "from sklearn.preprocessing import StandardScaler\n",
    "from sklearn.metrics import accuracy_score\n",
    "\n",
    "# Load dataset\n",
    "data = load_breast_cancer()\n",
    "X = data.data\n",
    "y = data.target\n",
    "\n",
    "# Train-test split\n",
    "X_train, X_test, y_train, y_test = train_test_split(X, y, test_size=0.2, random_state=42)\n",
    "\n",
    "# Scale features\n",
    "scaler = StandardScaler()\n",
    "X_train_scaled = scaler.fit_transform(X_train)\n",
    "X_test_scaled = scaler.transform(X_test)\n",
    "\n",
    "# Define model\n",
    "model = LogisticRegression(max_iter=1000)\n",
    "\n",
    "# Define hyperparameter search space\n",
    "param_dist = {\n",
    "    'C': np.logspace(-3, 3, 10),                  # Regularization strength\n",
    "    'penalty': ['l1', 'l2'],                     # Regularization type\n",
    "    'solver': ['liblinear', 'saga']              # Solvers supporting both l1 and l2\n",
    "}\n",
    "\n",
    "# RandomizedSearchCV setup\n",
    "random_search = RandomizedSearchCV(\n",
    "    model,\n",
    "    param_distributions=param_dist,\n",
    "    n_iter=10,               # Number of combinations to try\n",
    "    cv=5,                    # 5-fold cross-validation\n",
    "    random_state=42,\n",
    "    scoring='accuracy'\n",
    ")\n",
    "\n",
    "# Fit on training data\n",
    "random_search.fit(X_train_scaled, y_train)\n",
    "\n",
    "# Evaluate best model\n",
    "best_model = random_search.best_estimator_\n",
    "y_pred = best_model.predict(X_test_scaled)\n",
    "accuracy = accuracy_score(y_test, y_pred)\n",
    "print(\"Best Parameters:\", random_search.best_params_)\n",
    "print(f\"Accuracy with Best Parameters: {accuracy:.2f}\")"
   ]
  },
  {
   "cell_type": "code",
   "execution_count": null,
   "metadata": {
    "colab": {
     "base_uri": "https://localhost:8080/"
    },
    "id": "sf-tz0jUuvc0",
    "outputId": "319cb3ed-9834-43b9-9f6b-0984492130bc"
   },
   "outputs": [
    {
     "name": "stdout",
     "output_type": "stream",
     "text": [
      "One-vs-One Logistic Regression Accuracy: 1.00\n"
     ]
    }
   ],
   "source": [
    "#10. Write a Python program to implement One-vs-One (OvO) Multiclass Logistic Regression and print accuracy.\n",
    "\n",
    "# Import libraries\n",
    "from sklearn.datasets import load_iris\n",
    "from sklearn.model_selection import train_test_split\n",
    "from sklearn.linear_model import LogisticRegression\n",
    "from sklearn.multiclass import OneVsOneClassifier\n",
    "from sklearn.preprocessing import StandardScaler\n",
    "from sklearn.metrics import accuracy_score\n",
    "\n",
    "# Load dataset\n",
    "data = load_iris()\n",
    "X = data.data\n",
    "y = data.target\n",
    "\n",
    "# Train-test split\n",
    "X_train, X_test, y_train, y_test = train_test_split(X, y, test_size=0.2, random_state=42)\n",
    "\n",
    "# Scale features\n",
    "scaler = StandardScaler()\n",
    "X_train_scaled = scaler.fit_transform(X_train)\n",
    "X_test_scaled = scaler.transform(X_test)\n",
    "\n",
    "# Create Logistic Regression model\n",
    "base_model = LogisticRegression(max_iter=1000)\n",
    "\n",
    "# Wrap with One-vs-One strategy\n",
    "ovo_model = OneVsOneClassifier(base_model)\n",
    "ovo_model.fit(X_train_scaled, y_train)\n",
    "\n",
    "# Predict and evaluate\n",
    "y_pred = ovo_model.predict(X_test_scaled)\n",
    "accuracy = accuracy_score(y_test, y_pred)\n",
    "print(f\"One-vs-One Logistic Regression Accuracy: {accuracy:.2f}\")"
   ]
  },
  {
   "cell_type": "code",
   "execution_count": null,
   "metadata": {
    "colab": {
     "base_uri": "https://localhost:8080/",
     "height": 410
    },
    "id": "htK10NlUvJ6X",
    "outputId": "aeea30e0-21bb-49d8-9953-5db6accd357d"
   },
   "outputs": [
    {
     "data": {
      "image/png": "[encoded data removed]",
      "text/plain": [
       "<Figure size 600x400 with 2 Axes>"
      ]
     },
     "metadata": {},
     "output_type": "display_data"
    }
   ],
   "source": [
    "#11. Write a Python program to train a Logistic Regression model and visualize the confusion matrix for binary classification.\n",
    "# Import libraries\n",
    "import matplotlib.pyplot as plt\n",
    "import seaborn as sns\n",
    "from sklearn.datasets import load_breast_cancer\n",
    "from sklearn.model_selection import train_test_split\n",
    "from sklearn.linear_model import LogisticRegression\n",
    "from sklearn.preprocessing import StandardScaler\n",
    "from sklearn.metrics import confusion_matrix, accuracy_score\n",
    "\n",
    "# Load binary classification dataset\n",
    "data = load_breast_cancer()\n",
    "X = data.data\n",
    "y = data.target\n",
    "\n",
    "# Train-test split\n",
    "X_train, X_test, y_train, y_test = train_test_split(X, y, test_size=0.2, random_state=42)\n",
    "\n",
    "# Feature scaling\n",
    "scaler = StandardScaler()\n",
    "X_train_scaled = scaler.fit_transform(X_train)\n",
    "X_test_scaled = scaler.transform(X_test)\n",
    "\n",
    "# Train Logistic Regression\n",
    "model = LogisticRegression(max_iter=1000)\n",
    "model.fit(X_train_scaled, y_train)\n",
    "\n",
    "# Predict and evaluate\n",
    "y_pred = model.predict(X_test_scaled)\n",
    "accuracy = accuracy_score(y_test, y_pred)\n",
    "cm = confusion_matrix(y_test, y_pred)\n",
    "\n",
    "# Plot confusion matrix\n",
    "plt.figure(figsize=(6, 4))\n",
    "sns.heatmap(cm, annot=True, fmt='d', cmap='Blues', xticklabels=['Malignant', 'Benign'], yticklabels=['Malignant', 'Benign'])\n",
    "plt.title(f'Confusion Matrix (Accuracy: {accuracy:.2f})')\n",
    "plt.xlabel('Predicted Label')\n",
    "plt.ylabel('True Label')\n",
    "plt.show()"
   ]
  },
  {
   "cell_type": "code",
   "execution_count": null,
   "metadata": {
    "colab": {
     "base_uri": "https://localhost:8080/"
    },
    "id": "_4ormxHLvlWb",
    "outputId": "e008ded8-f674-4415-91f3-063ff2e22625"
   },
   "outputs": [
    {
     "name": "stdout",
     "output_type": "stream",
     "text": [
      "Precision: 0.97\n",
      "Recall:    0.99\n",
      "F1-Score:  0.98\n"
     ]
    }
   ],
   "source": [
    "#12. Write a Python program to train a Logistic Regression model and evaluate its performance using Precision, Recall and F1-Score.\n",
    "\n",
    "# Import libraries\n",
    "from sklearn.datasets import load_breast_cancer\n",
    "from sklearn.model_selection import train_test_split\n",
    "from sklearn.linear_model import LogisticRegression\n",
    "from sklearn.preprocessing import StandardScaler\n",
    "from sklearn.metrics import precision_score, recall_score, f1_score\n",
    "\n",
    "# Load dataset\n",
    "data = load_breast_cancer()\n",
    "X = data.data\n",
    "y = data.target\n",
    "\n",
    "# Train-test split\n",
    "X_train, X_test, y_train, y_test = train_test_split(X, y, test_size=0.2, random_state=42)\n",
    "\n",
    "# Feature scaling\n",
    "scaler = StandardScaler()\n",
    "X_train_scaled = scaler.fit_transform(X_train)\n",
    "X_test_scaled = scaler.transform(X_test)\n",
    "\n",
    "# Train Logistic Regression\n",
    "model = LogisticRegression(max_iter=1000)\n",
    "model.fit(X_train_scaled, y_train)\n",
    "\n",
    "# Predict\n",
    "y_pred = model.predict(X_test_scaled)\n",
    "\n",
    "# Evaluate using Precision, Recall, F1\n",
    "precision = precision_score(y_test, y_pred)\n",
    "recall = recall_score(y_test, y_pred)\n",
    "f1 = f1_score(y_test, y_pred)\n",
    "print(f\"Precision: {precision:.2f}\")\n",
    "print(f\"Recall:    {recall:.2f}\")\n",
    "print(f\"F1-Score:  {f1:.2f}\")"
   ]
  },
  {
   "cell_type": "code",
   "execution_count": null,
   "metadata": {
    "colab": {
     "base_uri": "https://localhost:8080/",
     "height": 646
    },
    "id": "p1QVsuEkwPg3",
    "outputId": "5dbc0d96-d46a-4061-83b4-0e5c6213bcc7"
   },
   "outputs": [
    {
     "name": "stdout",
     "output_type": "stream",
     "text": [
      "Classification Report:\n",
      "              precision    recall  f1-score   support\n",
      "\n",
      "           0       0.97      0.82      0.89       179\n",
      "           1       0.35      0.81      0.49        21\n",
      "\n",
      "    accuracy                           0.82       200\n",
      "   macro avg       0.66      0.82      0.69       200\n",
      "weighted avg       0.91      0.82      0.85       200\n",
      "\n"
     ]
    },
    {
     "data": {
      "image/png": "[encoded data removed]",
      "text/plain": [
       "<Figure size 640x480 with 2 Axes>"
      ]
     },
     "metadata": {},
     "output_type": "display_data"
    }
   ],
   "source": [
    "#13. Write a Python program to train a Logistic Regression model on imbalanced data and apply class weights to improve model performance.\n",
    "\n",
    "# Import libraries\n",
    "from sklearn.datasets import make_classification\n",
    "from sklearn.model_selection import train_test_split\n",
    "from sklearn.linear_model import LogisticRegression\n",
    "from sklearn.preprocessing import StandardScaler\n",
    "from sklearn.metrics import classification_report, confusion_matrix\n",
    "import seaborn as sns\n",
    "import matplotlib.pyplot as plt\n",
    "\n",
    "# Create imbalanced dataset\n",
    "X, y = make_classification(n_samples=1000, n_features=10, n_informative=5,\n",
    "                           n_redundant=2, n_classes=2, weights=[0.9, 0.1],\n",
    "                           random_state=42)\n",
    "\n",
    "# Train-test split\n",
    "X_train, X_test, y_train, y_test = train_test_split(X, y, test_size=0.2, random_state=42)\n",
    "\n",
    "# Feature scaling\n",
    "scaler = StandardScaler()\n",
    "X_train_scaled = scaler.fit_transform(X_train)\n",
    "X_test_scaled = scaler.transform(X_test)\n",
    "\n",
    "# Train Logistic Regression with class weights\n",
    "model = LogisticRegression(class_weight='balanced', max_iter=1000)\n",
    "model.fit(X_train_scaled, y_train)\n",
    "\n",
    "# Predict\n",
    "y_pred = model.predict(X_test_scaled)\n",
    "\n",
    "# Evaluate\n",
    "print(\"Classification Report:\")\n",
    "print(classification_report(y_test, y_pred))\n",
    "\n",
    "# Confusion Matrix\n",
    "cm = confusion_matrix(y_test, y_pred)\n",
    "sns.heatmap(cm, annot=True, fmt='d', cmap='Blues')\n",
    "plt.title(\"Confusion Matrix\")\n",
    "plt.xlabel(\"Predicted\")\n",
    "plt.ylabel(\"Actual\")\n",
    "plt.show()"
   ]
  },
  {
   "cell_type": "code",
   "execution_count": null,
   "metadata": {
    "colab": {
     "base_uri": "https://localhost:8080/"
    },
    "id": "QhpHNKUKw0TI",
    "outputId": "6b75d963-29d7-473d-d17c-546433cbfe9c"
   },
   "outputs": [
    {
     "name": "stdout",
     "output_type": "stream",
     "text": [
      "Classification Report:\n",
      "              precision    recall  f1-score   support\n",
      "\n",
      "           0       0.81      0.86      0.83       105\n",
      "           1       0.78      0.72      0.75        74\n",
      "\n",
      "    accuracy                           0.80       179\n",
      "   macro avg       0.80      0.79      0.79       179\n",
      "weighted avg       0.80      0.80      0.80       179\n",
      "\n"
     ]
    }
   ],
   "source": [
    "#14. Write a Python program to train Logistic Regression on the Titanic dataset, handle missing values and evaluate performance.\n",
    "\n",
    "# Import libraries\n",
    "import pandas as pd\n",
    "from sklearn.model_selection import train_test_split\n",
    "from sklearn.linear_model import LogisticRegression\n",
    "from sklearn.metrics import classification_report\n",
    "from sklearn.preprocessing import OneHotEncoder, StandardScaler\n",
    "from sklearn.impute import SimpleImputer\n",
    "\n",
    "# Load Titanic dataset\n",
    "url = 'https://raw.githubusercontent.com/datasciencedojo/datasets/master/titanic.csv'\n",
    "df = pd.read_csv(url)\n",
    "\n",
    "# Select features and target\n",
    "features = ['Pclass', 'Sex', 'Age', 'SibSp', 'Parch', 'Fare', 'Embarked']\n",
    "X = df[features]\n",
    "y = df['Survived']\n",
    "\n",
    "# Handle missing values\n",
    "# Age and Fare (numerical) : fill with mean\n",
    "X['Age'].fillna(X['Age'].mean(), inplace=True)\n",
    "X['Fare'].fillna(X['Fare'].mean(), inplace=True)\n",
    "\n",
    "# Embarked (categorical) : fill with mode\n",
    "X['Embarked'].fillna(X['Embarked'].mode()[0], inplace=True)\n",
    "\n",
    "# One-hot encode categorical columns\n",
    "X = pd.get_dummies(X, columns=['Sex', 'Embarked', 'Pclass'], drop_first=True)\n",
    "\n",
    "# Train-test split\n",
    "X_train, X_test, y_train, y_test = train_test_split(X, y, test_size=0.2, random_state=42)\n",
    "\n",
    "# Scale numerical features\n",
    "scaler = StandardScaler()\n",
    "X_train_scaled = scaler.fit_transform(X_train)\n",
    "X_test_scaled = scaler.transform(X_test)\n",
    "\n",
    "# Train Logistic Regression\n",
    "model = LogisticRegression(max_iter=1000)\n",
    "model.fit(X_train_scaled, y_train)\n",
    "\n",
    "# Predict and evaluate\n",
    "y_pred = model.predict(X_test_scaled)\n",
    "print(\"Classification Report:\")\n",
    "print(classification_report(y_test, y_pred))"
   ]
  },
  {
   "cell_type": "code",
   "execution_count": null,
   "metadata": {
    "colab": {
     "base_uri": "https://localhost:8080/"
    },
    "id": "1NzQLP9vykSc",
    "outputId": "96288f8f-65ff-4af1-f3f4-8dfd9a2432b9"
   },
   "outputs": [
    {
     "name": "stdout",
     "output_type": "stream",
     "text": [
      "Accuracy WITHOUT Scaling: 0.96\n",
      "Accuracy WITH Scaling:    0.97\n"
     ]
    }
   ],
   "source": [
    "#15. Write a Python program to apply feature scaling (Standardization) before training a Logistic Regression model. Evaluate its accuracy and compare results with and without scaling.\n",
    "\n",
    "# Import libraries\n",
    "from sklearn.datasets import load_breast_cancer\n",
    "from sklearn.model_selection import train_test_split\n",
    "from sklearn.linear_model import LogisticRegression\n",
    "from sklearn.preprocessing import StandardScaler\n",
    "from sklearn.metrics import accuracy_score\n",
    "\n",
    "# Load dataset\n",
    "data = load_breast_cancer()\n",
    "X = data.data\n",
    "y = data.target\n",
    "\n",
    "# Train-test split\n",
    "X_train, X_test, y_train, y_test = train_test_split(X, y, test_size=0.2, random_state=42)\n",
    "\n",
    "# Train Logistic Regression WITHOUT scaling\n",
    "model_no_scaling = LogisticRegression(max_iter=1000)\n",
    "model_no_scaling.fit(X_train, y_train)\n",
    "y_pred_no_scaling = model_no_scaling.predict(X_test)\n",
    "accuracy_no_scaling = accuracy_score(y_test, y_pred_no_scaling)\n",
    "\n",
    "# Apply Standard Scaling\n",
    "scaler = StandardScaler()\n",
    "X_train_scaled = scaler.fit_transform(X_train)\n",
    "X_test_scaled = scaler.transform(X_test)\n",
    "\n",
    "# Train Logistic Regression WITH scaling\n",
    "model_scaled = LogisticRegression(max_iter=1000)\n",
    "model_scaled.fit(X_train_scaled, y_train)\n",
    "y_pred_scaled = model_scaled.predict(X_test_scaled)\n",
    "accuracy_scaled = accuracy_score(y_test, y_pred_scaled)\n",
    "\n",
    "# Print and compare results\n",
    "print(f\"Accuracy WITHOUT Scaling: {accuracy_no_scaling:.2f}\")\n",
    "print(f\"Accuracy WITH Scaling:    {accuracy_scaled:.2f}\")"
   ]
  },
  {
   "cell_type": "code",
   "execution_count": null,
   "metadata": {
    "colab": {
     "base_uri": "https://localhost:8080/",
     "height": 489
    },
    "id": "j38lXMV9zITI",
    "outputId": "82b78f5e-c2d7-4b24-e153-ba6488ba8b9f"
   },
   "outputs": [
    {
     "name": "stdout",
     "output_type": "stream",
     "text": [
      "ROC-AUC Score: 1.00\n"
     ]
    },
    {
     "data": {
      "image/png": "[encoded data removed]",
      "text/plain": [
       "<Figure size 640x480 with 1 Axes>"
      ]
     },
     "metadata": {},
     "output_type": "display_data"
    }
   ],
   "source": [
    "#16. Write a Python program to train Logistic Regression and evaluate its performance using ROC-AUC score.\n",
    "\n",
    "# Import libraries\n",
    "from sklearn.datasets import load_breast_cancer\n",
    "from sklearn.model_selection import train_test_split\n",
    "from sklearn.linear_model import LogisticRegression\n",
    "from sklearn.preprocessing import StandardScaler\n",
    "from sklearn.metrics import roc_auc_score, roc_curve\n",
    "import matplotlib.pyplot as plt\n",
    "\n",
    "# Load dataset\n",
    "data = load_breast_cancer()\n",
    "X = data.data\n",
    "y = data.target\n",
    "\n",
    "# Train-test split\n",
    "X_train, X_test, y_train, y_test = train_test_split(X, y, test_size=0.2, random_state=42)\n",
    "\n",
    "# Scale features\n",
    "scaler = StandardScaler()\n",
    "X_train_scaled = scaler.fit_transform(X_train)\n",
    "X_test_scaled = scaler.transform(X_test)\n",
    "\n",
    "# Train Logistic Regression\n",
    "model = LogisticRegression(max_iter=1000)\n",
    "model.fit(X_train_scaled, y_train)\n",
    "\n",
    "# Predict probabilities\n",
    "y_proba = model.predict_proba(X_test_scaled)[:, 1]  # probability of class 1\n",
    "\n",
    "# Calculate ROC-AUC score\n",
    "roc_auc = roc_auc_score(y_test, y_proba)\n",
    "print(f\"ROC-AUC Score: {roc_auc:.2f}\")\n",
    "\n",
    "# Plot ROC Curve\n",
    "fpr, tpr, _ = roc_curve(y_test, y_proba)\n",
    "plt.plot(fpr, tpr, label=f'ROC Curve (AUC = {roc_auc:.2f})')\n",
    "plt.plot([0, 1], [0, 1], 'k--')  # diagonal line\n",
    "plt.xlabel(\"False Positive Rate\")\n",
    "plt.ylabel(\"True Positive Rate\")\n",
    "plt.title(\"ROC Curve\")\n",
    "plt.legend()\n",
    "plt.grid(True)\n",
    "plt.show()"
   ]
  },
  {
   "cell_type": "code",
   "execution_count": null,
   "metadata": {
    "colab": {
     "base_uri": "https://localhost:8080/"
    },
    "id": "01d4itKvziEb",
    "outputId": "b04c19d0-7eb9-4f37-ef36-30f39cd38e3d"
   },
   "outputs": [
    {
     "name": "stdout",
     "output_type": "stream",
     "text": [
      "Accuracy with C=0.5: 1.00\n"
     ]
    }
   ],
   "source": [
    "#17. Write a Python program to train Logistic Regression using a custom learning rate (C=0.5) and evaluate accuracy.\n",
    "\n",
    "# Import libraries\n",
    "from sklearn.datasets import load_wine\n",
    "from sklearn.model_selection import train_test_split\n",
    "from sklearn.linear_model import LogisticRegression\n",
    "from sklearn.preprocessing import StandardScaler\n",
    "from sklearn.metrics import accuracy_score\n",
    "\n",
    "# Load dataset\n",
    "data = load_wine()\n",
    "X = data.data\n",
    "y = data.target\n",
    "\n",
    "# Train-test split\n",
    "X_train, X_test, y_train, y_test = train_test_split(X, y, test_size=0.2, random_state=42)\n",
    "\n",
    "# Feature scaling\n",
    "scaler = StandardScaler()\n",
    "X_train_scaled = scaler.fit_transform(X_train)\n",
    "X_test_scaled = scaler.transform(X_test)\n",
    "\n",
    "# Train Logistic Regression with C=0.5 (custom regularization strength)\n",
    "model = LogisticRegression(C=0.5, max_iter=1000, multi_class='ovr')\n",
    "model.fit(X_train_scaled, y_train)\n",
    "\n",
    "# Predict and evaluate\n",
    "y_pred = model.predict(X_test_scaled)\n",
    "accuracy = accuracy_score(y_test, y_pred)\n",
    "print(f\"Accuracy with C=0.5: {accuracy:.2f}\")"
   ]
  },
  {
   "cell_type": "code",
   "execution_count": null,
   "metadata": {
    "colab": {
     "base_uri": "https://localhost:8080/"
    },
    "id": "yK0YammO0p2b",
    "outputId": "93a4ca6e-209e-4df0-f367-985ac4e7f8fb"
   },
   "outputs": [
    {
     "name": "stdout",
     "output_type": "stream",
     "text": [
      "Top Important Features based on Logistic Regression coefficients:\n",
      "                    Feature  Coefficient\n",
      "1                   Glucose     1.071301\n",
      "5                       BMI     0.778182\n",
      "7                       Age     0.421207\n",
      "2             BloodPressure    -0.247826\n",
      "6  DiabetesPedigreeFunction     0.230625\n",
      "0               Pregnancies     0.212554\n",
      "4                   Insulin    -0.200783\n",
      "3             SkinThickness     0.045729\n"
     ]
    }
   ],
   "source": [
    "#18. Write a Python program to train Logistic Regression and identify important features based on model coefficients.\n",
    "# Import libraries\n",
    "import pandas as pd\n",
    "from sklearn.model_selection import train_test_split\n",
    "from sklearn.linear_model import LogisticRegression\n",
    "from sklearn.preprocessing import StandardScaler\n",
    "\n",
    "# Load dataset\n",
    "url = 'https://raw.githubusercontent.com/jbrownlee/Datasets/master/pima-indians-diabetes.data.csv'\n",
    "columns = ['Pregnancies', 'Glucose', 'BloodPressure', 'SkinThickness',\n",
    "           'Insulin', 'BMI', 'DiabetesPedigreeFunction', 'Age', 'Outcome']\n",
    "df = pd.read_csv(url, names=columns)\n",
    "\n",
    "# Split features and target\n",
    "X = df.drop('Outcome', axis=1)\n",
    "y = df['Outcome']\n",
    "\n",
    "# Train-test split\n",
    "X_train, X_test, y_train, y_test = train_test_split(X, y, test_size=0.2, random_state=42)\n",
    "\n",
    "# Feature scaling\n",
    "scaler = StandardScaler()\n",
    "X_train_scaled = scaler.fit_transform(X_train)\n",
    "\n",
    "# Train Logistic Regression\n",
    "model = LogisticRegression(max_iter=1000)\n",
    "model.fit(X_train_scaled, y_train)\n",
    "\n",
    "# Extract feature importances\n",
    "coefficients = model.coef_[0]\n",
    "feature_importance = pd.DataFrame({\n",
    "    'Feature': X.columns,\n",
    "    'Coefficient': coefficients,\n",
    "    'AbsCoefficient': abs(coefficients)\n",
    "}).sort_values(by='AbsCoefficient', ascending=False)\n",
    "\n",
    "# Display important features\n",
    "print(\"Top Important Features based on Logistic Regression coefficients:\")\n",
    "print(feature_importance[['Feature', 'Coefficient']])"
   ]
  },
  {
   "cell_type": "code",
   "execution_count": null,
   "metadata": {
    "colab": {
     "base_uri": "https://localhost:8080/"
    },
    "id": "uvtlC-Vk1R3c",
    "outputId": "e87bdc12-0c53-44e4-9a45-91f9d501e3c9"
   },
   "outputs": [
    {
     "name": "stdout",
     "output_type": "stream",
     "text": [
      "Cohen's Kappa Score: 0.47\n"
     ]
    }
   ],
   "source": [
    "#19. Write a Python program to train Logistic Regression and evaluate its performance using Cohen’s Kappa Score.\n",
    "\n",
    "# Import libraries\n",
    "import pandas as pd\n",
    "from sklearn.model_selection import train_test_split\n",
    "from sklearn.linear_model import LogisticRegression\n",
    "from sklearn.preprocessing import StandardScaler\n",
    "from sklearn.metrics import cohen_kappa_score\n",
    "\n",
    "# Load dataset\n",
    "url = 'https://raw.githubusercontent.com/jbrownlee/Datasets/master/pima-indians-diabetes.data.csv'\n",
    "columns = ['Pregnancies', 'Glucose', 'BloodPressure', 'SkinThickness',\n",
    "           'Insulin', 'BMI', 'DiabetesPedigreeFunction', 'Age', 'Outcome']\n",
    "df = pd.read_csv(url, names=columns)\n",
    "\n",
    "# Split into features and target\n",
    "X = df.drop('Outcome', axis=1)\n",
    "y = df['Outcome']\n",
    "\n",
    "# Train-test split\n",
    "X_train, X_test, y_train, y_test = train_test_split(X, y, test_size=0.2, random_state=42)\n",
    "\n",
    "# Scale features\n",
    "scaler = StandardScaler()\n",
    "X_train_scaled = scaler.fit_transform(X_train)\n",
    "X_test_scaled = scaler.transform(X_test)\n",
    "\n",
    "# Train Logistic Regression model\n",
    "model = LogisticRegression(max_iter=1000)\n",
    "model.fit(X_train_scaled, y_train)\n",
    "\n",
    "# Predict and evaluate using Cohen’s Kappa Score\n",
    "y_pred = model.predict(X_test_scaled)\n",
    "kappa = cohen_kappa_score(y_test, y_pred)\n",
    "print(f\"Cohen's Kappa Score: {kappa:.2f}\")"
   ]
  },
  {
   "cell_type": "code",
   "execution_count": null,
   "metadata": {
    "colab": {
     "base_uri": "https://localhost:8080/",
     "height": 487
    },
    "id": "XkVJOu9l177A",
    "outputId": "09647033-27bd-45a0-c607-bab334058032"
   },
   "outputs": [
    {
     "data": {
      "image/png": "[encoded data removed]",
      "text/plain": [
       "<Figure size 700x500 with 1 Axes>"
      ]
     },
     "metadata": {},
     "output_type": "display_data"
    }
   ],
   "source": [
    "#20. Write a Python program to train Logistic Regression and visualize the Precision-Recall Curve for binary classification.\n",
    "\n",
    "# Import libraries\n",
    "import pandas as pd\n",
    "import matplotlib.pyplot as plt\n",
    "from sklearn.model_selection import train_test_split\n",
    "from sklearn.linear_model import LogisticRegression\n",
    "from sklearn.preprocessing import StandardScaler\n",
    "from sklearn.metrics import precision_recall_curve, average_precision_score\n",
    "\n",
    "# Load dataset\n",
    "url = 'https://raw.githubusercontent.com/jbrownlee/Datasets/master/pima-indians-diabetes.data.csv'\n",
    "columns = ['Pregnancies', 'Glucose', 'BloodPressure', 'SkinThickness',\n",
    "           'Insulin', 'BMI', 'DiabetesPedigreeFunction', 'Age', 'Outcome']\n",
    "df = pd.read_csv(url, names=columns)\n",
    "\n",
    "# Split features and target\n",
    "X = df.drop('Outcome', axis=1)\n",
    "y = df['Outcome']\n",
    "\n",
    "# Train-test split\n",
    "X_train, X_test, y_train, y_test = train_test_split(X, y, test_size=0.2, random_state=42)\n",
    "\n",
    "# Scale features\n",
    "scaler = StandardScaler()\n",
    "X_train_scaled = scaler.fit_transform(X_train)\n",
    "X_test_scaled = scaler.transform(X_test)\n",
    "\n",
    "# Train Logistic Regression model\n",
    "model = LogisticRegression(max_iter=1000)\n",
    "model.fit(X_train_scaled, y_train)\n",
    "\n",
    "# Predict probabilities\n",
    "y_scores = model.predict_proba(X_test_scaled)[:, 1]\n",
    "\n",
    "# Compute precision-recall pairs and AUC\n",
    "precision, recall, _ = precision_recall_curve(y_test, y_scores)\n",
    "avg_precision = average_precision_score(y_test, y_scores)\n",
    "\n",
    "# Plot Precision-Recall curve\n",
    "plt.figure(figsize=(7, 5))\n",
    "plt.plot(recall, precision, label=f'PR Curve (AP = {avg_precision:.2f})', color='blue')\n",
    "plt.xlabel('Recall')\n",
    "plt.ylabel('Precision')\n",
    "plt.title('Precision-Recall Curve')\n",
    "plt.legend()\n",
    "plt.grid(True)\n",
    "plt.show()"
   ]
  },
  {
   "cell_type": "code",
   "execution_count": null,
   "metadata": {
    "colab": {
     "base_uri": "https://localhost:8080/"
    },
    "id": "CV2T6O1x25oY",
    "outputId": "a02de29d-c2a3-4140-9ac1-20a1bbcdfe29"
   },
   "outputs": [
    {
     "name": "stdout",
     "output_type": "stream",
     "text": [
      "Accuracy Comparison by Solver:\n",
      "liblinear: 0.75\n",
      "saga: 0.75\n",
      "lbfgs: 0.75\n"
     ]
    }
   ],
   "source": [
    "#21. Write a Python program to train Logistic Regression with different solvers (liblinear, saga, lbfgs) and compare their accuracy.\n",
    "\n",
    "# Import libraries\n",
    "import pandas as pd\n",
    "from sklearn.model_selection import train_test_split\n",
    "from sklearn.linear_model import LogisticRegression\n",
    "from sklearn.preprocessing import StandardScaler\n",
    "from sklearn.metrics import accuracy_score\n",
    "\n",
    "# Load dataset\n",
    "url = 'https://raw.githubusercontent.com/jbrownlee/Datasets/master/pima-indians-diabetes.data.csv'\n",
    "columns = ['Pregnancies', 'Glucose', 'BloodPressure', 'SkinThickness',\n",
    "           'Insulin', 'BMI', 'DiabetesPedigreeFunction', 'Age', 'Outcome']\n",
    "df = pd.read_csv(url, names=columns)\n",
    "\n",
    "# Split features and target\n",
    "X = df.drop('Outcome', axis=1)\n",
    "y = df['Outcome']\n",
    "\n",
    "# Train-test split\n",
    "X_train, X_test, y_train, y_test = train_test_split(X, y, test_size=0.2, random_state=42)\n",
    "\n",
    "# Scale features\n",
    "scaler = StandardScaler()\n",
    "X_train_scaled = scaler.fit_transform(X_train)\n",
    "X_test_scaled = scaler.transform(X_test)\n",
    "\n",
    "# Train Logistic Regression with different solvers\n",
    "solvers = ['liblinear', 'saga', 'lbfgs']\n",
    "results = {}\n",
    "\n",
    "for solver in solvers:\n",
    "    model = LogisticRegression(solver=solver, max_iter=1000)\n",
    "    model.fit(X_train_scaled, y_train)\n",
    "    y_pred = model.predict(X_test_scaled)\n",
    "    acc = accuracy_score(y_test, y_pred)\n",
    "    results[solver] = acc\n",
    "\n",
    "# Print results\n",
    "print(\"Accuracy Comparison by Solver:\")\n",
    "for solver, acc in results.items():\n",
    "    print(f\"{solver}: {acc:.2f}\")"
   ]
  },
  {
   "cell_type": "code",
   "execution_count": null,
   "metadata": {
    "colab": {
     "base_uri": "https://localhost:8080/"
    },
    "id": "zN1JXhRh3onU",
    "outputId": "50aefbfc-16be-4dcf-c4f9-f7f542337adc"
   },
   "outputs": [
    {
     "name": "stdout",
     "output_type": "stream",
     "text": [
      "Matthews Correlation Coefficient: 0.71\n"
     ]
    }
   ],
   "source": [
    "#22. Write a Python program to train Logistic Regression and evaluate its performance using Matthews Correlation Coefficient (MCC).\n",
    "\n",
    "# Import libraries\n",
    "import pandas as pd\n",
    "from sklearn.model_selection import train_test_split\n",
    "from sklearn.linear_model import LogisticRegression\n",
    "from sklearn.preprocessing import StandardScaler\n",
    "from sklearn.metrics import matthews_corrcoef\n",
    "\n",
    "# Load dataset\n",
    "url = 'https://gist.githubusercontent.com/trantuyen082001/1fc2f5c0ad1507f40e721e6d18b34138/raw/heart.csv'\n",
    "df = pd.read_csv(url)\n",
    "\n",
    "# Prepare features & target\n",
    "X = df.drop('output', axis=1)  # features\n",
    "y = df['output']               # target (0=no disease, 1=disease)\n",
    "\n",
    "# Train-test split\n",
    "X_train, X_test, y_train, y_test = train_test_split(\n",
    "    X, y, test_size=0.2, random_state=42\n",
    ")\n",
    "\n",
    "# Scale features\n",
    "scaler = StandardScaler()\n",
    "X_train_scaled = scaler.fit_transform(X_train)\n",
    "X_test_scaled = scaler.transform(X_test)\n",
    "\n",
    "# Train Logistic Regression\n",
    "model = LogisticRegression(max_iter=1000)\n",
    "model.fit(X_train_scaled, y_train)\n",
    "\n",
    "# Predict & calculate MCC\n",
    "y_pred = model.predict(X_test_scaled)\n",
    "mcc = matthews_corrcoef(y_test, y_pred)\n",
    "print(f\"Matthews Correlation Coefficient: {mcc:.2f}\")"
   ]
  },
  {
   "cell_type": "code",
   "execution_count": null,
   "metadata": {
    "colab": {
     "base_uri": "https://localhost:8080/"
    },
    "id": "odojhrzQ5hBE",
    "outputId": "dba30c9f-fee9-407b-8eb4-f65e14734c9e"
   },
   "outputs": [
    {
     "name": "stdout",
     "output_type": "stream",
     "text": [
      "Accuracy without scaling : 0.87\n",
      "Accuracy with scaling    : 0.85\n"
     ]
    }
   ],
   "source": [
    "#23. Write a Python program to train Logistic Regression on both raw and standardized data. Compare their accuracy to see the impact of feature scaling.\n",
    "\n",
    "# Import libraries\n",
    "import pandas as pd\n",
    "from sklearn.model_selection import train_test_split\n",
    "from sklearn.linear_model import LogisticRegression\n",
    "from sklearn.preprocessing import StandardScaler\n",
    "from sklearn.metrics import accuracy_score\n",
    "\n",
    "# Load dataset\n",
    "url = 'https://gist.githubusercontent.com/trantuyen082001/1fc2f5c0ad1507f40e721e6d18b34138/raw/heart.csv'\n",
    "df = pd.read_csv(url)\n",
    "\n",
    "# Split into features and target\n",
    "X = df.drop('output', axis=1)\n",
    "y = df['output']\n",
    "\n",
    "# Train-test split\n",
    "X_train, X_test, y_train, y_test = train_test_split(\n",
    "    X, y, test_size=0.2, random_state=42\n",
    ")\n",
    "\n",
    "# Train on raw (unscaled) data\n",
    "model_raw = LogisticRegression(max_iter=1000)\n",
    "model_raw.fit(X_train, y_train)\n",
    "y_pred_raw = model_raw.predict(X_test)\n",
    "acc_raw = accuracy_score(y_test, y_pred_raw)\n",
    "\n",
    "# Train on standardized data\n",
    "scaler = StandardScaler()\n",
    "X_train_scaled = scaler.fit_transform(X_train)\n",
    "X_test_scaled = scaler.transform(X_test)\n",
    "\n",
    "model_scaled = LogisticRegression(max_iter=1000)\n",
    "model_scaled.fit(X_train_scaled, y_train)\n",
    "y_pred_scaled = model_scaled.predict(X_test_scaled)\n",
    "acc_scaled = accuracy_score(y_test, y_pred_scaled)\n",
    "\n",
    "print(f\"Accuracy without scaling : {acc_raw:.2f}\")\n",
    "print(f\"Accuracy with scaling    : {acc_scaled:.2f}\")"
   ]
  },
  {
   "cell_type": "code",
   "execution_count": null,
   "metadata": {
    "colab": {
     "base_uri": "https://localhost:8080/"
    },
    "id": "QYDzbkHX6Qzj",
    "outputId": "99b67ed0-343c-4660-8076-7ada02b0cfcb"
   },
   "outputs": [
    {
     "name": "stdout",
     "output_type": "stream",
     "text": [
      "Best C value: 1\n",
      "Test Accuracy with best C: 0.85\n"
     ]
    }
   ],
   "source": [
    "#24. Write a Python program to train Logistic Regression and find the optimal C (regularization strength) using cross-validation.\n",
    "\n",
    "# Import libraries\n",
    "import pandas as pd\n",
    "from sklearn.model_selection import train_test_split, GridSearchCV\n",
    "from sklearn.linear_model import LogisticRegression\n",
    "from sklearn.preprocessing import StandardScaler\n",
    "from sklearn.metrics import accuracy_score\n",
    "\n",
    "# Load dataset\n",
    "url = 'https://gist.githubusercontent.com/trantuyen082001/1fc2f5c0ad1507f40e721e6d18b34138/raw/heart.csv'\n",
    "df = pd.read_csv(url)\n",
    "\n",
    "# Split into features and target\n",
    "X = df.drop('output', axis=1)\n",
    "y = df['output']\n",
    "\n",
    "# Train-test split\n",
    "X_train, X_test, y_train, y_test = train_test_split(X, y, test_size=0.2, random_state=42)\n",
    "\n",
    "# Scale features\n",
    "scaler = StandardScaler()\n",
    "X_train_scaled = scaler.fit_transform(X_train)\n",
    "X_test_scaled = scaler.transform(X_test)\n",
    "\n",
    "# Define Logistic Regression and grid of C values\n",
    "model = LogisticRegression(max_iter=1000)\n",
    "param_grid = {'C': [0.001, 0.01, 0.1, 1, 10, 100]}\n",
    "\n",
    "# Apply GridSearchCV\n",
    "grid = GridSearchCV(model, param_grid, cv=5, scoring='accuracy')\n",
    "grid.fit(X_train_scaled, y_train)\n",
    "\n",
    "# Evaluate best model\n",
    "best_model = grid.best_estimator_\n",
    "y_pred = best_model.predict(X_test_scaled)\n",
    "accuracy = accuracy_score(y_test, y_pred)\n",
    "print(f\"Best C value: {grid.best_params_['C']}\")\n",
    "print(f\"Test Accuracy with best C: {accuracy:.2f}\")"
   ]
  },
  {
   "cell_type": "code",
   "execution_count": null,
   "metadata": {
    "colab": {
     "base_uri": "https://localhost:8080/"
    },
    "id": "jTnuLEm86-O8",
    "outputId": "e705c07d-17ba-4f6d-e14a-b4f0ce8247c5"
   },
   "outputs": [
    {
     "name": "stdout",
     "output_type": "stream",
     "text": [
      "Accuracy using loaded model: 0.85\n"
     ]
    }
   ],
   "source": [
    "#25. Write a Python program to train Logistic Regression, save the trained model using joblib and load it again to make predictions.\n",
    "\n",
    "# Import libraries\n",
    "import pandas as pd\n",
    "import joblib\n",
    "from sklearn.model_selection import train_test_split\n",
    "from sklearn.linear_model import LogisticRegression\n",
    "from sklearn.preprocessing import StandardScaler\n",
    "from sklearn.metrics import accuracy_score\n",
    "\n",
    "# Load dataset\n",
    "url = 'https://gist.githubusercontent.com/trantuyen082001/1fc2f5c0ad1507f40e721e6d18b34138/raw/heart.csv'\n",
    "df = pd.read_csv(url)\n",
    "\n",
    "# Split into features and target\n",
    "X = df.drop('output', axis=1)\n",
    "y = df['output']\n",
    "\n",
    "# Train-test split\n",
    "X_train, X_test, y_train, y_test = train_test_split(X, y, test_size=0.2, random_state=42)\n",
    "\n",
    "# Scale features\n",
    "scaler = StandardScaler()\n",
    "X_train_scaled = scaler.fit_transform(X_train)\n",
    "X_test_scaled = scaler.transform(X_test)\n",
    "\n",
    "# Train model\n",
    "model = LogisticRegression(max_iter=1000)\n",
    "model.fit(X_train_scaled, y_train)\n",
    "\n",
    "# Save model and scaler\n",
    "joblib.dump(model, 'logistic_model.pkl')\n",
    "joblib.dump(scaler, 'scaler.pkl')\n",
    "\n",
    "# Load model and scaler\n",
    "loaded_model = joblib.load('logistic_model.pkl')\n",
    "loaded_scaler = joblib.load('scaler.pkl')\n",
    "\n",
    "# Use loaded model for prediction\n",
    "X_test_loaded_scaled = loaded_scaler.transform(X_test)\n",
    "y_pred = loaded_model.predict(X_test_loaded_scaled)\n",
    "\n",
    "# Evaluate\n",
    "accuracy = accuracy_score(y_test, y_pred)\n",
    "print(f\"Accuracy using loaded model: {accuracy:.2f}\")"
   ]
  }
 ],
 "metadata": {
  "colab": {
   "provenance": []
  },
  "kernelspec": {
   "display_name": "Python 3 (ipykernel)",
   "language": "python",
   "name": "python3"
  },
  "language_info": {
   "codemirror_mode": {
    "name": "ipython",
    "version": 3
   },
   "file_extension": ".py",
   "mimetype": "text/x-python",
   "name": "python",
   "nbconvert_exporter": "python",
   "pygments_lexer": "ipython3",
   "version": "3.13.3"
  }
 },
 "nbformat": 4,
 "nbformat_minor": 4
}
